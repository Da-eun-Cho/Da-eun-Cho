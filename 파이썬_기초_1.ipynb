{
  "nbformat": 4,
  "nbformat_minor": 0,
  "metadata": {
    "colab": {
      "provenance": [],
      "collapsed_sections": [],
      "toc_visible": true,
      "authorship_tag": "ABX9TyOv5NUHbkIHXsuZ1PxQ2ZBc",
      "include_colab_link": true
    },
    "kernelspec": {
      "name": "python3",
      "display_name": "Python 3"
    },
    "language_info": {
      "name": "python"
    }
  },
  "cells": [
    {
      "cell_type": "markdown",
      "metadata": {
        "id": "view-in-github",
        "colab_type": "text"
      },
      "source": [
        "<a href=\"https://colab.research.google.com/github/Da-eun-Cho/Da-eun-Cho/blob/main/%ED%8C%8C%EC%9D%B4%EC%8D%AC_%EA%B8%B0%EC%B4%88_1.ipynb\" target=\"_parent\"><img src=\"https://colab.research.google.com/assets/colab-badge.svg\" alt=\"Open In Colab\"/></a>"
      ]
    },
    {
      "cell_type": "markdown",
      "source": [
        "#파이썬 기초"
      ],
      "metadata": {
        "id": "Z624JrqErHkf"
      }
    },
    {
      "cell_type": "markdown",
      "source": [
        "## (1) 단축키\n",
        "* ctrl + m + b (밑에 코드셀 추가)\n",
        "* ctrl + m + a  (위에 코드셀 추가)\n",
        "* ctrl + m + m  (코드셀 -> 텍스트셀)\n",
        "* ctrl + m + y  (텍스트셀 -> 코드셀)\n",
        "* ctrl + m + d  (셀 삭제)\n",
        "* ctrl + enter  (현재 셀 실행)\n",
        "* shift + enter   (현재 셀 실행하며 아래 셀로 이동)\n",
        "\n",
        "mac은 ctrl 대신 command 사용"
      ],
      "metadata": {
        "id": "jOmOTfy-roZ-"
      }
    },
    {
      "cell_type": "code",
      "source": [
        "print(1)"
      ],
      "metadata": {
        "colab": {
          "base_uri": "https://localhost:8080/"
        },
        "id": "MSXB49Rq5nEu",
        "outputId": "0f404a81-f82c-4f1d-ee8c-36b6e15363a0"
      },
      "execution_count": 24,
      "outputs": [
        {
          "output_type": "stream",
          "name": "stdout",
          "text": [
            "1\n"
          ]
        }
      ]
    },
    {
      "cell_type": "markdown",
      "source": [
        "## (2) 출력하기\n",
        "* print()는 값을 출력해주는 함수\n",
        "* 괄호 안에 입력한 메시지나 값을 출력\n",
        "* 문자나 숫자 등을 출력\n",
        "* 쉼표 ,,,로 여러 값을 출력"
      ],
      "metadata": {
        "id": "lo286z1b59CT"
      }
    },
    {
      "cell_type": "code",
      "source": [
        "print(\"hello world\")"
      ],
      "metadata": {
        "colab": {
          "base_uri": "https://localhost:8080/"
        },
        "id": "l1ekB3O16J9r",
        "outputId": "8ffd8c3e-97c9-40dc-cb81-2bfb92403355"
      },
      "execution_count": 25,
      "outputs": [
        {
          "output_type": "stream",
          "name": "stdout",
          "text": [
            "hello world\n"
          ]
        }
      ]
    },
    {
      "cell_type": "code",
      "source": [
        "print(1)"
      ],
      "metadata": {
        "colab": {
          "base_uri": "https://localhost:8080/"
        },
        "id": "PMFGgLip6SZu",
        "outputId": "25494b5b-5811-4fda-d032-a5c6684928ba"
      },
      "execution_count": 26,
      "outputs": [
        {
          "output_type": "stream",
          "name": "stdout",
          "text": [
            "1\n"
          ]
        }
      ]
    },
    {
      "cell_type": "code",
      "source": [
        "print(1,2,3)"
      ],
      "metadata": {
        "colab": {
          "base_uri": "https://localhost:8080/"
        },
        "id": "zQDzL60L6ULq",
        "outputId": "2742c6fd-b986-4744-95f6-827e6d537d4e"
      },
      "execution_count": 27,
      "outputs": [
        {
          "output_type": "stream",
          "name": "stdout",
          "text": [
            "1 2 3\n"
          ]
        }
      ]
    },
    {
      "cell_type": "code",
      "source": [
        "print(\"My name is\", \"다은\")"
      ],
      "metadata": {
        "colab": {
          "base_uri": "https://localhost:8080/"
        },
        "id": "RTSWRdE66VXP",
        "outputId": "44c3bf3a-19e6-472c-847e-490299b3b1a8"
      },
      "execution_count": 28,
      "outputs": [
        {
          "output_type": "stream",
          "name": "stdout",
          "text": [
            "My name is 다은\n"
          ]
        }
      ]
    },
    {
      "cell_type": "markdown",
      "source": [
        "## (3) 입력하기\n",
        "* input() 함수 사용\n",
        "* 사용자의 입력을 받습니다.\n",
        "* 입력 값은 항상 문자열로 받아옵니다.\n",
        "* 프로그램에게 정보를 전달합니다.\n",
        "* 입력 받은 값을 변수에 저장할 수 있습니다."
      ],
      "metadata": {
        "id": "pGhbQAN36eSD"
      }
    },
    {
      "cell_type": "code",
      "source": [
        "input()"
      ],
      "metadata": {
        "colab": {
          "base_uri": "https://localhost:8080/",
          "height": 54
        },
        "id": "FOGg_Yi89aKB",
        "outputId": "f4fff70d-b606-47f2-d125-9159f7a98017"
      },
      "execution_count": 33,
      "outputs": [
        {
          "name": "stdout",
          "output_type": "stream",
          "text": [
            "다은\n"
          ]
        },
        {
          "output_type": "execute_result",
          "data": {
            "text/plain": [
              "'다은'"
            ],
            "application/vnd.google.colaboratory.intrinsic+json": {
              "type": "string"
            }
          },
          "metadata": {},
          "execution_count": 33
        }
      ]
    },
    {
      "cell_type": "code",
      "source": [
        "input(\"너의 이름은? :\")"
      ],
      "metadata": {
        "colab": {
          "base_uri": "https://localhost:8080/",
          "height": 54
        },
        "id": "OFjQEHwg9bKg",
        "outputId": "8cca11fb-4389-434b-d3f0-f92815aab382"
      },
      "execution_count": 34,
      "outputs": [
        {
          "name": "stdout",
          "output_type": "stream",
          "text": [
            "너의 이름은? :다은\n"
          ]
        },
        {
          "output_type": "execute_result",
          "data": {
            "text/plain": [
              "'다은'"
            ],
            "application/vnd.google.colaboratory.intrinsic+json": {
              "type": "string"
            }
          },
          "metadata": {},
          "execution_count": 34
        }
      ]
    },
    {
      "cell_type": "code",
      "source": [
        "name = input(\"너의 이름은? :\")"
      ],
      "metadata": {
        "colab": {
          "base_uri": "https://localhost:8080/"
        },
        "id": "gk2hU5p89frb",
        "outputId": "b8818984-c85e-4387-d920-b815f516e84e"
      },
      "execution_count": 35,
      "outputs": [
        {
          "name": "stdout",
          "output_type": "stream",
          "text": [
            "너의 이름은? :다은\n"
          ]
        }
      ]
    },
    {
      "cell_type": "markdown",
      "source": [
        "## (4) 변수\n",
        "* 값을 담는 그릇\n",
        "* 할당연산자: 변수에 값을 할당하는 연상을 의미하는 기호\n",
        "* 대표적인 할당연산자 = 이외에도 다양한 할당연산자 존재"
      ],
      "metadata": {
        "id": "_9epU0v79pF5"
      }
    },
    {
      "cell_type": "code",
      "source": [
        "name = input(\"너의 이름은? :\")"
      ],
      "metadata": {
        "colab": {
          "base_uri": "https://localhost:8080/"
        },
        "id": "EkNczaVW-m-5",
        "outputId": "7945b11c-95d8-419e-e7da-bda833cc0119"
      },
      "execution_count": 43,
      "outputs": [
        {
          "name": "stdout",
          "output_type": "stream",
          "text": [
            "너의 이름은? :다민\n"
          ]
        }
      ]
    },
    {
      "cell_type": "code",
      "source": [
        "print(name)"
      ],
      "metadata": {
        "colab": {
          "base_uri": "https://localhost:8080/"
        },
        "id": "uqPOtlx8-pA9",
        "outputId": "facc5db2-b4e6-41ea-901b-59a62bdc08c2"
      },
      "execution_count": 44,
      "outputs": [
        {
          "output_type": "stream",
          "name": "stdout",
          "text": [
            "다민\n"
          ]
        }
      ]
    },
    {
      "cell_type": "code",
      "source": [
        "int1 = 3\n",
        "int2 = 4"
      ],
      "metadata": {
        "id": "1Cci0Cfe-sRG"
      },
      "execution_count": 45,
      "outputs": []
    },
    {
      "cell_type": "code",
      "source": [
        "print(int1)"
      ],
      "metadata": {
        "colab": {
          "base_uri": "https://localhost:8080/"
        },
        "id": "BRDvuxLT-vBW",
        "outputId": "8fc59fbd-d738-4b82-9c5a-b3592a79abed"
      },
      "execution_count": 46,
      "outputs": [
        {
          "output_type": "stream",
          "name": "stdout",
          "text": [
            "3\n"
          ]
        }
      ]
    },
    {
      "cell_type": "code",
      "source": [
        "print(int2)"
      ],
      "metadata": {
        "colab": {
          "base_uri": "https://localhost:8080/"
        },
        "id": "6Uwl3vv_-xPv",
        "outputId": "a5d1a6ce-2254-4549-a906-51aeeecb293e"
      },
      "execution_count": 47,
      "outputs": [
        {
          "output_type": "stream",
          "name": "stdout",
          "text": [
            "4\n"
          ]
        }
      ]
    },
    {
      "cell_type": "code",
      "source": [
        "int3 = 920\n",
        "int4 = 234\n",
        "print(int3)\n",
        "print(int4)"
      ],
      "metadata": {
        "colab": {
          "base_uri": "https://localhost:8080/"
        },
        "id": "DEl8Mc-4-ycS",
        "outputId": "383d9114-5130-40aa-f92a-e39344cf32be"
      },
      "execution_count": 48,
      "outputs": [
        {
          "output_type": "stream",
          "name": "stdout",
          "text": [
            "920\n",
            "234\n"
          ]
        }
      ]
    },
    {
      "cell_type": "markdown",
      "source": [
        "## 과제\n",
        "* 변수 age에 값을 입력받아 저장하고 [My age is (본인 나이)]를 출력해보세요."
      ],
      "metadata": {
        "id": "hjnDDKYj_KUg"
      }
    }
  ]
}